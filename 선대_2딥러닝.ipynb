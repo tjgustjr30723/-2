{
  "nbformat": 4,
  "nbformat_minor": 0,
  "metadata": {
    "colab": {
      "provenance": [],
      "mount_file_id": "1Jxa25Lkn3OYO0ccEfYBF8GbPRifOhB6O",
      "authorship_tag": "ABX9TyP6p0HBr9kKhFIEFV4/D2Gf",
      "include_colab_link": true
    },
    "kernelspec": {
      "name": "python3",
      "display_name": "Python 3"
    },
    "language_info": {
      "name": "python"
    }
  },
  "cells": [
    {
      "cell_type": "markdown",
      "metadata": {
        "id": "view-in-github",
        "colab_type": "text"
      },
      "source": [
        "<a href=\"https://colab.research.google.com/github/tjgustjr30723/linear-algebra2/blob/main/%EC%84%A0%EB%8C%80_2%EB%94%A5%EB%9F%AC%EB%8B%9D.ipynb\" target=\"_parent\"><img src=\"https://colab.research.google.com/assets/colab-badge.svg\" alt=\"Open In Colab\"/></a>"
      ]
    },
    {
      "cell_type": "code",
      "execution_count": null,
      "metadata": {
        "colab": {
          "base_uri": "https://localhost:8080/"
        },
        "id": "8skM28NyukRo",
        "outputId": "7ef510e8-b924-4fac-f453-66c183e5daff"
      },
      "outputs": [
        {
          "output_type": "stream",
          "name": "stdout",
          "text": [
            "Epoch    1/20000 W: 2.117, b: 0.156 Cost: 6411.333496\n",
            "Epoch 2001/20000 W: 4.620, b: 17.901 Cost: 70.713486\n",
            "Epoch 4001/20000 W: 3.993, b: 27.109 Cost: 26.650620\n",
            "Epoch 6001/20000 W: 3.663, b: 31.955 Cost: 14.442105\n",
            "Epoch 8001/20000 W: 3.490, b: 34.507 Cost: 11.059441\n",
            "Epoch 10001/20000 W: 3.398, b: 35.850 Cost: 10.122194\n",
            "Epoch 12001/20000 W: 3.350, b: 36.557 Cost: 9.862542\n",
            "Epoch 14001/20000 W: 3.325, b: 36.929 Cost: 9.790572\n",
            "Epoch 16001/20000 W: 3.311, b: 37.124 Cost: 9.770633\n",
            "Epoch 18001/20000 W: 3.304, b: 37.228 Cost: 9.765107\n"
          ]
        }
      ],
      "source": [
        "import torch\n",
        "import torch.optim as optim\n",
        "x_train = torch.FloatTensor([[5],[7],[10],[15],[17],[20]])\n",
        "y_train = torch.FloatTensor([[50],[61],[73],[91],[94],[99]])\n",
        "\n",
        "W = torch.zeros(1, requires_grad=True)\n",
        "b = torch.zeros(1, requires_grad=True)\n",
        "\n",
        "hypothesis = x_train * W + b\n",
        "cost = torch.mean((hypothesis - y_train)**2)\n",
        "optimizer = optim.SGD([W, b], lr = 0.001)\n",
        "\n",
        "epoch = 20000\n",
        "for i in range(epoch):\n",
        "    hypothesis = x_train * W + b\n",
        "\n",
        "    cost = torch.mean((hypothesis - y_train)**2)\n",
        "\n",
        "    optimizer.zero_grad()\n",
        "\n",
        "    cost.backward()\n",
        "\n",
        "    optimizer.step()\n",
        "\n",
        "    if(i*1) % 2000 == 0:\n",
        "        print(\"Epoch {:4d}/{} W: {:.3f}, b: {:.3f} Cost: {:.6f}\".format(i+1,epoch,W.item(), b.item(), cost.item()))\n"
      ]
    },
    {
      "cell_type": "code",
      "source": [
        "test_input = torch.FloatTensor([[13]])\n",
        "result = test_input * W + b\n",
        "print(result)"
      ],
      "metadata": {
        "colab": {
          "base_uri": "https://localhost:8080/"
        },
        "id": "hYBO7Qlq9FAw",
        "outputId": "fa255e88-d246-4b79-8913-87e82cb8e597"
      },
      "execution_count": null,
      "outputs": [
        {
          "output_type": "stream",
          "name": "stdout",
          "text": [
            "tensor([[80.1908]], grad_fn=<AddBackward0>)\n"
          ]
        }
      ]
    },
    {
      "cell_type": "code",
      "source": [
        "import torch\n",
        "import torch.nn.functional as F\n",
        "import torch.optim as optim\n",
        "x_train = torch.FloatTensor([[5],[7],[10],[15],[17],[20]])\n",
        "y_train = torch.FloatTensor([[0],[0],[0],[1],[1],[1]])\n",
        "\n",
        "W = torch.zeros(1, requires_grad=True)\n",
        "b = torch.zeros(1, requires_grad=True)\n",
        "\n",
        "optimizer = torch.optim.SGD([W, b], lr = 0.1)\n",
        "\n",
        "epoch = 20000\n",
        "for i in range(epoch):\n",
        "    hypothesis = torch.sigmoid(x_train * W + b)\n",
        "\n",
        "    cost = F.binary_cross_entropy(hypothesis, y_train)\n",
        "\n",
        "    optimizer.zero_grad()\n",
        "\n",
        "    cost.backward()\n",
        "\n",
        "    optimizer.step()\n",
        "\n",
        "    if(i*1) % 2000 == 0:\n",
        "        print(\"Epoch {:4d}/{} W: {:.3f}, b: {:.3f} Cost: {:.6f}\".format(i+1,epoch,W.item(), b.item(), cost.item()))\n"
      ],
      "metadata": {
        "colab": {
          "base_uri": "https://localhost:8080/"
        },
        "id": "c3vLxj3E31M4",
        "outputId": "2f71e50e-139b-4f8d-fe7e-d36c7a8a6fb2"
      },
      "execution_count": null,
      "outputs": [
        {
          "output_type": "stream",
          "name": "stdout",
          "text": [
            "Epoch    1/20000 W: 0.250, b: 0.000 Cost: 0.693147\n",
            "Epoch 2001/20000 W: 0.693, b: -8.314 Cost: 0.069111\n",
            "Epoch 4001/20000 W: 0.874, b: -10.618 Cost: 0.041694\n",
            "Epoch 6001/20000 W: 0.991, b: -12.108 Cost: 0.030407\n",
            "Epoch 8001/20000 W: 1.080, b: -13.227 Cost: 0.024081\n",
            "Epoch 10001/20000 W: 1.151, b: -14.127 Cost: 0.019993\n",
            "Epoch 12001/20000 W: 1.211, b: -14.882 Cost: 0.017119\n",
            "Epoch 14001/20000 W: 1.263, b: -15.533 Cost: 0.014981\n",
            "Epoch 16001/20000 W: 1.308, b: -16.106 Cost: 0.013327\n",
            "Epoch 18001/20000 W: 1.349, b: -16.618 Cost: 0.012007\n"
          ]
        }
      ]
    },
    {
      "cell_type": "code",
      "source": [
        "test_input = torch.FloatTensor([[15.5]])\n",
        "result = torch.sigmoid(test_input * W + b)\n",
        "print(result)"
      ],
      "metadata": {
        "colab": {
          "base_uri": "https://localhost:8080/"
        },
        "id": "uQ-iZEyA60qr",
        "outputId": "3bbeeecb-b9f2-4551-ad91-5ecf9a10cbb4"
      },
      "execution_count": null,
      "outputs": [
        {
          "output_type": "stream",
          "name": "stdout",
          "text": [
            "tensor([[0.9878]], grad_fn=<SigmoidBackward0>)\n"
          ]
        }
      ]
    },
    {
      "cell_type": "code",
      "source": [
        "threshold = 0.5\n",
        "predict = result >= torch.FloatTensor([threshold])\n",
        "print(predict)"
      ],
      "metadata": {
        "colab": {
          "base_uri": "https://localhost:8080/"
        },
        "id": "CoUs1Efd8uu1",
        "outputId": "358e05c8-5219-4ef3-d280-50dd15a94f0f"
      },
      "execution_count": null,
      "outputs": [
        {
          "output_type": "stream",
          "name": "stdout",
          "text": [
            "tensor([[True]])\n"
          ]
        }
      ]
    },
    {
      "cell_type": "code",
      "source": [
        "# from tensorflow.examples.tutorials.mnist import input_data\n",
        "# mnist = input_data.read_data_Sers(\"./samples/MNIST_data/\", one_hot=True)\n",
        "import torch\n",
        "import torch.nn as nn\n",
        "import torchvision.datasets as dsets\n",
        "import torchvision.transforms as transforms\n",
        "from torch.utils.data import DataLoader\n",
        "import matplotlib.pyplot as plt\n",
        "import random\n",
        "device = torch.device(\"cpu\")\n",
        "#for reproducibility\n",
        "random.seed(777)\n",
        "torch.manual_seed(777)\n",
        "training_epochs = 15\n",
        "batch_size = 100\n",
        "\n",
        "mnist_train = dsets.MNIST(root='MNIST_Data/', train=True, transform=transforms.ToTensor(),download=True)\n",
        "mnist_test = dsets.MNIST(root='MNIST_Data/', train=False, transform=transforms.ToTensor(),download=True)\n",
        "data_loader = DataLoader(dataset= mnist_train, batch_size=batch_size,drop_last=True)\n",
        "\n",
        "linear = nn.Linear(784,10, bias=True).to(device)\n",
        "\n",
        "criterion = nn.CrossEntropyLoss().to(device)\n",
        "optimizer = torch.optim.SGD(linear.parameters(),lr=0.1)"
      ],
      "metadata": {
        "colab": {
          "base_uri": "https://localhost:8080/"
        },
        "id": "-MnxWWru-hu5",
        "outputId": "cc2a2dc5-0da2-4c9d-9af9-05eb8519b394"
      },
      "execution_count": null,
      "outputs": [
        {
          "output_type": "stream",
          "name": "stdout",
          "text": [
            "Downloading http://yann.lecun.com/exdb/mnist/train-images-idx3-ubyte.gz\n",
            "Failed to download (trying next):\n",
            "HTTP Error 403: Forbidden\n",
            "\n",
            "Downloading https://ossci-datasets.s3.amazonaws.com/mnist/train-images-idx3-ubyte.gz\n",
            "Downloading https://ossci-datasets.s3.amazonaws.com/mnist/train-images-idx3-ubyte.gz to MNIST_Data/MNIST/raw/train-images-idx3-ubyte.gz\n"
          ]
        },
        {
          "output_type": "stream",
          "name": "stderr",
          "text": [
            "100%|██████████| 9912422/9912422 [00:00<00:00, 50763560.32it/s]\n"
          ]
        },
        {
          "output_type": "stream",
          "name": "stdout",
          "text": [
            "Extracting MNIST_Data/MNIST/raw/train-images-idx3-ubyte.gz to MNIST_Data/MNIST/raw\n",
            "\n",
            "Downloading http://yann.lecun.com/exdb/mnist/train-labels-idx1-ubyte.gz\n",
            "Failed to download (trying next):\n",
            "HTTP Error 403: Forbidden\n",
            "\n",
            "Downloading https://ossci-datasets.s3.amazonaws.com/mnist/train-labels-idx1-ubyte.gz\n",
            "Downloading https://ossci-datasets.s3.amazonaws.com/mnist/train-labels-idx1-ubyte.gz to MNIST_Data/MNIST/raw/train-labels-idx1-ubyte.gz\n"
          ]
        },
        {
          "output_type": "stream",
          "name": "stderr",
          "text": [
            "100%|██████████| 28881/28881 [00:00<00:00, 1637654.88it/s]\n"
          ]
        },
        {
          "output_type": "stream",
          "name": "stdout",
          "text": [
            "Extracting MNIST_Data/MNIST/raw/train-labels-idx1-ubyte.gz to MNIST_Data/MNIST/raw\n",
            "\n",
            "Downloading http://yann.lecun.com/exdb/mnist/t10k-images-idx3-ubyte.gz\n",
            "Failed to download (trying next):\n",
            "HTTP Error 403: Forbidden\n",
            "\n",
            "Downloading https://ossci-datasets.s3.amazonaws.com/mnist/t10k-images-idx3-ubyte.gz\n",
            "Downloading https://ossci-datasets.s3.amazonaws.com/mnist/t10k-images-idx3-ubyte.gz to MNIST_Data/MNIST/raw/t10k-images-idx3-ubyte.gz\n"
          ]
        },
        {
          "output_type": "stream",
          "name": "stderr",
          "text": [
            "100%|██████████| 1648877/1648877 [00:00<00:00, 13500032.98it/s]\n"
          ]
        },
        {
          "output_type": "stream",
          "name": "stdout",
          "text": [
            "Extracting MNIST_Data/MNIST/raw/t10k-images-idx3-ubyte.gz to MNIST_Data/MNIST/raw\n",
            "\n",
            "Downloading http://yann.lecun.com/exdb/mnist/t10k-labels-idx1-ubyte.gz\n",
            "Failed to download (trying next):\n",
            "HTTP Error 403: Forbidden\n",
            "\n",
            "Downloading https://ossci-datasets.s3.amazonaws.com/mnist/t10k-labels-idx1-ubyte.gz\n",
            "Downloading https://ossci-datasets.s3.amazonaws.com/mnist/t10k-labels-idx1-ubyte.gz to MNIST_Data/MNIST/raw/t10k-labels-idx1-ubyte.gz\n"
          ]
        },
        {
          "output_type": "stream",
          "name": "stderr",
          "text": [
            "100%|██████████| 4542/4542 [00:00<00:00, 4082839.43it/s]"
          ]
        },
        {
          "output_type": "stream",
          "name": "stdout",
          "text": [
            "Extracting MNIST_Data/MNIST/raw/t10k-labels-idx1-ubyte.gz to MNIST_Data/MNIST/raw\n",
            "\n"
          ]
        },
        {
          "output_type": "stream",
          "name": "stderr",
          "text": [
            "\n"
          ]
        }
      ]
    },
    {
      "cell_type": "code",
      "source": [
        "with torch.no_grad():\n",
        "    X_test = mnist_test.data.view(-1, 28 * 28).float().to(device)\n",
        "    Y_test = mnist_test.targets.to(device)\n",
        "\n",
        "    prediction = linear(X_test)\n",
        "    correct_prediction = torch.argmax(prediction, 1) == Y_test\n",
        "    accuracy = correct_prediction.float().mean()\n",
        "    print('Accuracy:', accuracy.item())\n",
        "\n",
        "    r = random.randint(0, len(mnist_test) - 1)\n",
        "    X_single_data = mnist_test.data[r:r + 1].view(-1, 28 * 28).float().to(device)\n",
        "    Y_single_data = mnist_test.targets[r:r+1].to(device)\n",
        "\n",
        "    print('Label: ', Y_single_data.item())\n",
        "    single_prediction = linear(X_single_data)\n",
        "    print('Prediction: ', torch.argmax(single_prediction, 1).item())\n",
        "\n",
        "    plt.imshow(mnist_test.data[r:r+1].view(28, 28), cmap='Greys', interpolation='nearest')\n",
        "\n",
        "    plt.show()\n"
      ],
      "metadata": {
        "colab": {
          "base_uri": "https://localhost:8080/",
          "height": 485
        },
        "id": "ypVfnSPCBAad",
        "outputId": "69e2435f-42f2-4e7d-dd5b-fa93087d416f"
      },
      "execution_count": null,
      "outputs": [
        {
          "output_type": "stream",
          "name": "stdout",
          "text": [
            "Accuracy: 0.10050000250339508\n",
            "Label:  5\n",
            "Prediction:  3\n"
          ]
        },
        {
          "output_type": "display_data",
          "data": {
            "text/plain": [
              "<Figure size 640x480 with 1 Axes>"
            ],
            "image/png": "[encoded data removed]"
          },
          "metadata": {}
        }
      ]
    },
    {
      "cell_type": "code",
      "source": [],
      "metadata": {
        "id": "hru2CsTzE9pl"
      },
      "execution_count": null,
      "outputs": []
    }
  ]
}